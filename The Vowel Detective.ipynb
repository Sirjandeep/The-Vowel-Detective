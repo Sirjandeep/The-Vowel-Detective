{
 "cells": [
  {
   "cell_type": "code",
   "execution_count": 1,
   "id": "020d7bbf",
   "metadata": {},
   "outputs": [
    {
     "name": "stdout",
     "output_type": "stream",
     "text": [
      "Enter the word: Isha\n",
      "I\n",
      "a\n"
     ]
    }
   ],
   "source": [
    "#The Vowel Detective\n",
    "a=input(\"Enter the word: \")\n",
    "for i in a :\n",
    "    if i in ['a','e','i','o','u']:\n",
    "        print(i)\n",
    "    elif i in ['A','E','I','O','U']:\n",
    "        print(i)"
   ]
  },
  {
   "cell_type": "code",
   "execution_count": null,
   "id": "dd6b88b6",
   "metadata": {},
   "outputs": [],
   "source": []
  }
 ],
 "metadata": {
  "kernelspec": {
   "display_name": "Python 3 (ipykernel)",
   "language": "python",
   "name": "python3"
  },
  "language_info": {
   "codemirror_mode": {
    "name": "ipython",
    "version": 3
   },
   "file_extension": ".py",
   "mimetype": "text/x-python",
   "name": "python",
   "nbconvert_exporter": "python",
   "pygments_lexer": "ipython3",
   "version": "3.10.9"
  }
 },
 "nbformat": 4,
 "nbformat_minor": 5
}
